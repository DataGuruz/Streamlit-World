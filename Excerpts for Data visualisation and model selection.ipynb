{
 "cells": [
  {
   "cell_type": "markdown",
   "id": "c36cfd5c-2f54-4487-ab1c-35101b534f2a",
   "metadata": {},
   "source": [
    "#### Excerpt from full codes "
   ]
  },
  {
   "cell_type": "markdown",
   "id": "61551144-96d4-4867-a59f-026f82fc2e23",
   "metadata": {},
   "source": [
    "##### Data Visualization"
   ]
  },
  {
   "cell_type": "markdown",
   "id": "8b185265-2016-45a7-9dc1-42ee330a1aec",
   "metadata": {},
   "source": [
    "###### Exploratory Data Analysis\n",
    "EDA is an approach to analyzing the data using visual techniques. It is used to discover trends, and patterns, or to check assumptions with the help of statistical summaries and graphical representations. Here we will see how to check the data imbalance and skewness of the data."
   ]
  },
  {
   "cell_type": "code",
   "execution_count": null,
   "id": "cb60c193-a25b-4e2e-8a76-78f1ca6ab2be",
   "metadata": {},
   "outputs": [],
   "source": [
    "plt.pie(df['rainfall'].value_counts().values,\n",
    "        labels = df['rainfall'].value_counts().index,\n",
    "        autopct='%1.1f%%')\n",
    "plt.show()"
   ]
  },
  {
   "cell_type": "code",
   "execution_count": null,
   "id": "14714fbd-2284-44ea-9c25-bd9a59fa6479",
   "metadata": {},
   "outputs": [],
   "source": [
    "#Let’s check the distribution of the continuous features given in the dataset.\n",
    "plt.subplots(figsize=(15,8))\n",
    "\n",
    "for i, col in enumerate(features):\n",
    "  plt.subplot(3,4, i + 1)\n",
    "  sb.distplot(df[col])\n",
    "plt.tight_layout()\n",
    "plt.show()\n"
   ]
  },
  {
   "cell_type": "code",
   "execution_count": null,
   "id": "8e8100cb-029a-4ca2-8dd9-76b8167212d1",
   "metadata": {},
   "outputs": [],
   "source": [
    "#Let’s draw boxplots for the continuous variable to detect the outliers present in the data.\n",
    "plt.subplots(figsize=(15,8))\n",
    "\n",
    "for i, col in enumerate(features):\n",
    "  plt.subplot(3,4, i + 1)\n",
    "  sb.boxplot(df[col])\n",
    "plt.tight_layout()\n",
    "plt.show()\n"
   ]
  },
  {
   "cell_type": "code",
   "execution_count": null,
   "id": "b3e8c912-631c-4d0a-9f52-884d12ce224b",
   "metadata": {},
   "outputs": [],
   "source": [
    "plt.figure(figsize=(10,10))\n",
    "sb.heatmap(df.corr(),\n",
    "           annot=True,\n",
    "           cbar=False)\n",
    "plt.show()"
   ]
  },
  {
   "cell_type": "markdown",
   "id": "90d0aea3-eaba-4ce4-b673-6fa0ba4eb93e",
   "metadata": {},
   "source": [
    "##### Selection of Models"
   ]
  },
  {
   "cell_type": "code",
   "execution_count": null,
   "id": "e60f5553-11fc-4cc1-8623-cb0b36127b53",
   "metadata": {},
   "outputs": [],
   "source": [
    "# Function to train a given model\n",
    "def train_model(model, X_train_scaled, y_train):\n",
    "    model.fit(X_train_scaled, y_train)\n",
    "    return model"
   ]
  },
  {
   "cell_type": "code",
   "execution_count": null,
   "id": "686d9738-931c-4fcb-94a6-18b8a05748eb",
   "metadata": {},
   "outputs": [],
   "source": []
  }
 ],
 "metadata": {
  "kernelspec": {
   "display_name": "Python 3 (ipykernel)",
   "language": "python",
   "name": "python3"
  },
  "language_info": {
   "codemirror_mode": {
    "name": "ipython",
    "version": 3
   },
   "file_extension": ".py",
   "mimetype": "text/x-python",
   "name": "python",
   "nbconvert_exporter": "python",
   "pygments_lexer": "ipython3",
   "version": "3.12.5"
  }
 },
 "nbformat": 4,
 "nbformat_minor": 5
}
